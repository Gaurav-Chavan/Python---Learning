{
 "cells": [
  {
   "cell_type": "markdown",
   "metadata": {},
   "source": [
    "# Array Manipulation Routines"
   ]
  },
  {
   "cell_type": "code",
   "execution_count": 1,
   "metadata": {},
   "outputs": [
    {
     "name": "stdout",
     "output_type": "stream",
     "text": [
      "[0 1 2 3 4 5]\n"
     ]
    }
   ],
   "source": [
    "import numpy as np\n",
    "x = np.arange(6)\n",
    "print(x)"
   ]
  },
  {
   "cell_type": "code",
   "execution_count": 2,
   "metadata": {},
   "outputs": [
    {
     "name": "stdout",
     "output_type": "stream",
     "text": [
      "[[0 1]\n",
      " [2 3]\n",
      " [4 5]]\n"
     ]
    }
   ],
   "source": [
    "y = x.reshape((3, 2))\n",
    "print(y)"
   ]
  },
  {
   "cell_type": "code",
   "execution_count": 3,
   "metadata": {},
   "outputs": [
    {
     "name": "stdout",
     "output_type": "stream",
     "text": [
      "[[0 1 2]\n",
      " [3 4 5]]\n"
     ]
    }
   ],
   "source": [
    "x = np.array([[0, 1, 2], [3, 4, 5]], dtype = np.uint8)\n",
    "print(x)"
   ]
  },
  {
   "cell_type": "code",
   "execution_count": 4,
   "metadata": {},
   "outputs": [
    {
     "name": "stdout",
     "output_type": "stream",
     "text": [
      "[0 1 2 3 4 5]\n"
     ]
    }
   ],
   "source": [
    "y = np.reshape(x, 6)\n",
    "print(y)"
   ]
  },
  {
   "cell_type": "code",
   "execution_count": 5,
   "metadata": {},
   "outputs": [
    {
     "name": "stdout",
     "output_type": "stream",
     "text": [
      "[[0 1 2]\n",
      " [3 4 5]]\n"
     ]
    }
   ],
   "source": [
    "print(x)"
   ]
  },
  {
   "cell_type": "code",
   "execution_count": 6,
   "metadata": {},
   "outputs": [
    {
     "name": "stdout",
     "output_type": "stream",
     "text": [
      "[0 1 2 3 4 5]\n"
     ]
    }
   ],
   "source": [
    "y = np.ravel(x)\n",
    "print(y)"
   ]
  },
  {
   "cell_type": "code",
   "execution_count": 7,
   "metadata": {},
   "outputs": [
    {
     "name": "stdout",
     "output_type": "stream",
     "text": [
      "[[0 1 2]\n",
      " [3 4 5]]\n"
     ]
    }
   ],
   "source": [
    "print(x)"
   ]
  },
  {
   "cell_type": "code",
   "execution_count": 8,
   "metadata": {},
   "outputs": [
    {
     "name": "stdout",
     "output_type": "stream",
     "text": [
      "[0 1 2 3 4 5]\n"
     ]
    }
   ],
   "source": [
    "y = x.flatten()\n",
    "print(y)"
   ]
  },
  {
   "cell_type": "code",
   "execution_count": 9,
   "metadata": {},
   "outputs": [
    {
     "name": "stdout",
     "output_type": "stream",
     "text": [
      "[0 1 2 3 4 5]\n"
     ]
    }
   ],
   "source": [
    "y = x.flatten('C')\n",
    "print(y)"
   ]
  },
  {
   "cell_type": "code",
   "execution_count": 10,
   "metadata": {},
   "outputs": [
    {
     "name": "stdout",
     "output_type": "stream",
     "text": [
      "[0 3 1 4 2 5]\n"
     ]
    }
   ],
   "source": [
    "y = x.flatten('F')\n",
    "print(y)"
   ]
  },
  {
   "cell_type": "code",
   "execution_count": null,
   "metadata": {},
   "outputs": [],
   "source": []
  },
  {
   "cell_type": "code",
   "execution_count": null,
   "metadata": {},
   "outputs": [],
   "source": []
  },
  {
   "cell_type": "code",
   "execution_count": 11,
   "metadata": {},
   "outputs": [
    {
     "name": "stdout",
     "output_type": "stream",
     "text": [
      "uint8\n",
      "[1 2 3]\n",
      "[4 5 6]\n"
     ]
    }
   ],
   "source": [
    "x = np.array([1, 2, 3], dtype = np.uint8)\n",
    "y = np.array([4, 5, 6], dtype = np.uint8)\n",
    "\n",
    "print(x.dtype)\n",
    "\n",
    "print(x)\n",
    "print(y)"
   ]
  },
  {
   "cell_type": "code",
   "execution_count": 12,
   "metadata": {},
   "outputs": [
    {
     "name": "stdout",
     "output_type": "stream",
     "text": [
      "[[1 2 3]\n",
      " [4 5 6]]\n"
     ]
    }
   ],
   "source": [
    "z = np.stack((x, y))\n",
    "print(z)"
   ]
  },
  {
   "cell_type": "code",
   "execution_count": 13,
   "metadata": {},
   "outputs": [
    {
     "name": "stdout",
     "output_type": "stream",
     "text": [
      "[[1 2 3]\n",
      " [4 5 6]]\n"
     ]
    }
   ],
   "source": [
    "z = np.stack((x, y), axis = 0 )\n",
    "print(z)"
   ]
  },
  {
   "cell_type": "code",
   "execution_count": 14,
   "metadata": {},
   "outputs": [
    {
     "name": "stdout",
     "output_type": "stream",
     "text": [
      "[[1 4]\n",
      " [2 5]\n",
      " [3 6]]\n"
     ]
    }
   ],
   "source": [
    "z = np.stack((x, y), axis = -1 )\n",
    "print(z)"
   ]
  },
  {
   "cell_type": "code",
   "execution_count": 15,
   "metadata": {},
   "outputs": [
    {
     "name": "stdout",
     "output_type": "stream",
     "text": [
      "[[1 4]\n",
      " [2 5]\n",
      " [3 6]]\n"
     ]
    }
   ],
   "source": [
    "z = np.stack((x, y), axis = 1 )\n",
    "print(z)"
   ]
  },
  {
   "cell_type": "code",
   "execution_count": 16,
   "metadata": {},
   "outputs": [
    {
     "name": "stdout",
     "output_type": "stream",
     "text": [
      "[1 2 3]\n",
      "[4 5 6]\n"
     ]
    }
   ],
   "source": [
    "print(x)\n",
    "print(y)"
   ]
  },
  {
   "cell_type": "code",
   "execution_count": 17,
   "metadata": {},
   "outputs": [
    {
     "name": "stdout",
     "output_type": "stream",
     "text": [
      "[[[1 4]\n",
      "  [2 5]\n",
      "  [3 6]]]\n"
     ]
    }
   ],
   "source": [
    "z = np.dstack((x, y))\n",
    "print(z)"
   ]
  },
  {
   "cell_type": "code",
   "execution_count": 18,
   "metadata": {},
   "outputs": [
    {
     "name": "stdout",
     "output_type": "stream",
     "text": [
      "(1, 3, 2)\n"
     ]
    }
   ],
   "source": [
    "print(z.shape)"
   ]
  },
  {
   "cell_type": "code",
   "execution_count": 19,
   "metadata": {},
   "outputs": [
    {
     "name": "stdout",
     "output_type": "stream",
     "text": [
      "[1 2 3 4 5 6]\n"
     ]
    }
   ],
   "source": [
    "z = np.hstack((x, y))\n",
    "print(z)"
   ]
  },
  {
   "cell_type": "code",
   "execution_count": 20,
   "metadata": {},
   "outputs": [
    {
     "name": "stdout",
     "output_type": "stream",
     "text": [
      "[[1 2 3]\n",
      " [4 5 6]]\n"
     ]
    }
   ],
   "source": [
    "z = np.vstack((x, y))\n",
    "print(z)"
   ]
  },
  {
   "cell_type": "code",
   "execution_count": 21,
   "metadata": {},
   "outputs": [
    {
     "name": "stdout",
     "output_type": "stream",
     "text": [
      "(2, 3)\n"
     ]
    }
   ],
   "source": [
    "print(z.shape)"
   ]
  },
  {
   "cell_type": "code",
   "execution_count": 22,
   "metadata": {},
   "outputs": [
    {
     "name": "stdout",
     "output_type": "stream",
     "text": [
      "[0 1 2 3 4 5 6 7 8]\n"
     ]
    }
   ],
   "source": [
    "x = np.arange(9)\n",
    "print(x)"
   ]
  },
  {
   "cell_type": "code",
   "execution_count": 23,
   "metadata": {},
   "outputs": [
    {
     "name": "stdout",
     "output_type": "stream",
     "text": [
      "[0 1 2] [3 4 5] [6 7 8]\n"
     ]
    }
   ],
   "source": [
    "a, b, c = np.split(x, 3)\n",
    "print(a, b, c)"
   ]
  },
  {
   "cell_type": "code",
   "execution_count": 24,
   "metadata": {},
   "outputs": [
    {
     "name": "stdout",
     "output_type": "stream",
     "text": [
      "[[[0.82867895 0.55798369 0.49230467 0.21844314]\n",
      "  [0.8985031  0.42733363 0.32979589 0.70578233]\n",
      "  [0.91388975 0.67150231 0.32048086 0.47061522]\n",
      "  [0.45836465 0.52486852 0.53366511 0.47707171]]\n",
      "\n",
      " [[0.67350837 0.42134917 0.89965268 0.53596853]\n",
      "  [0.35375186 0.80671171 0.58357056 0.87714871]\n",
      "  [0.42000205 0.9189422  0.84925124 0.14562692]\n",
      "  [0.42360063 0.30240372 0.50437383 0.82756499]]\n",
      "\n",
      " [[0.39423342 0.23566706 0.69080503 0.57719095]\n",
      "  [0.46991132 0.4768163  0.36950844 0.69458716]\n",
      "  [0.48154213 0.01366563 0.02899281 0.47635254]\n",
      "  [0.57070943 0.5484706  0.05305312 0.26182953]]\n",
      "\n",
      " [[0.40610148 0.63617857 0.61917571 0.83345948]\n",
      "  [0.67731527 0.66636471 0.90089041 0.06427929]\n",
      "  [0.90533504 0.18045617 0.67539567 0.74090204]\n",
      "  [0.67319812 0.76623152 0.37864678 0.9822041 ]]]\n"
     ]
    }
   ],
   "source": [
    "x = np.random.rand(4, 4, 4)\n",
    "print(x)"
   ]
  },
  {
   "cell_type": "code",
   "execution_count": 25,
   "metadata": {},
   "outputs": [
    {
     "name": "stdout",
     "output_type": "stream",
     "text": [
      "[[[0.82867895 0.55798369 0.49230467 0.21844314]\n",
      "  [0.8985031  0.42733363 0.32979589 0.70578233]\n",
      "  [0.91388975 0.67150231 0.32048086 0.47061522]\n",
      "  [0.45836465 0.52486852 0.53366511 0.47707171]]\n",
      "\n",
      " [[0.67350837 0.42134917 0.89965268 0.53596853]\n",
      "  [0.35375186 0.80671171 0.58357056 0.87714871]\n",
      "  [0.42000205 0.9189422  0.84925124 0.14562692]\n",
      "  [0.42360063 0.30240372 0.50437383 0.82756499]]] [[[0.39423342 0.23566706 0.69080503 0.57719095]\n",
      "  [0.46991132 0.4768163  0.36950844 0.69458716]\n",
      "  [0.48154213 0.01366563 0.02899281 0.47635254]\n",
      "  [0.57070943 0.5484706  0.05305312 0.26182953]]\n",
      "\n",
      " [[0.40610148 0.63617857 0.61917571 0.83345948]\n",
      "  [0.67731527 0.66636471 0.90089041 0.06427929]\n",
      "  [0.90533504 0.18045617 0.67539567 0.74090204]\n",
      "  [0.67319812 0.76623152 0.37864678 0.9822041 ]]]\n"
     ]
    }
   ],
   "source": [
    "y, z = np.split(x, 2)\n",
    "print(y, z)"
   ]
  },
  {
   "cell_type": "code",
   "execution_count": 26,
   "metadata": {},
   "outputs": [
    {
     "name": "stdout",
     "output_type": "stream",
     "text": [
      "[[[0.82867895 0.55798369]\n",
      "  [0.8985031  0.42733363]\n",
      "  [0.91388975 0.67150231]\n",
      "  [0.45836465 0.52486852]]\n",
      "\n",
      " [[0.67350837 0.42134917]\n",
      "  [0.35375186 0.80671171]\n",
      "  [0.42000205 0.9189422 ]\n",
      "  [0.42360063 0.30240372]]\n",
      "\n",
      " [[0.39423342 0.23566706]\n",
      "  [0.46991132 0.4768163 ]\n",
      "  [0.48154213 0.01366563]\n",
      "  [0.57070943 0.5484706 ]]\n",
      "\n",
      " [[0.40610148 0.63617857]\n",
      "  [0.67731527 0.66636471]\n",
      "  [0.90533504 0.18045617]\n",
      "  [0.67319812 0.76623152]]] [[[0.49230467 0.21844314]\n",
      "  [0.32979589 0.70578233]\n",
      "  [0.32048086 0.47061522]\n",
      "  [0.53366511 0.47707171]]\n",
      "\n",
      " [[0.89965268 0.53596853]\n",
      "  [0.58357056 0.87714871]\n",
      "  [0.84925124 0.14562692]\n",
      "  [0.50437383 0.82756499]]\n",
      "\n",
      " [[0.69080503 0.57719095]\n",
      "  [0.36950844 0.69458716]\n",
      "  [0.02899281 0.47635254]\n",
      "  [0.05305312 0.26182953]]\n",
      "\n",
      " [[0.61917571 0.83345948]\n",
      "  [0.90089041 0.06427929]\n",
      "  [0.67539567 0.74090204]\n",
      "  [0.37864678 0.9822041 ]]]\n"
     ]
    }
   ],
   "source": [
    "y, z = np.dsplit(x, 2)\n",
    "print(y, z)"
   ]
  },
  {
   "cell_type": "code",
   "execution_count": 27,
   "metadata": {},
   "outputs": [
    {
     "name": "stdout",
     "output_type": "stream",
     "text": [
      "[[[0.82867895 0.55798369 0.49230467 0.21844314]\n",
      "  [0.8985031  0.42733363 0.32979589 0.70578233]]\n",
      "\n",
      " [[0.67350837 0.42134917 0.89965268 0.53596853]\n",
      "  [0.35375186 0.80671171 0.58357056 0.87714871]]\n",
      "\n",
      " [[0.39423342 0.23566706 0.69080503 0.57719095]\n",
      "  [0.46991132 0.4768163  0.36950844 0.69458716]]\n",
      "\n",
      " [[0.40610148 0.63617857 0.61917571 0.83345948]\n",
      "  [0.67731527 0.66636471 0.90089041 0.06427929]]] [[[0.91388975 0.67150231 0.32048086 0.47061522]\n",
      "  [0.45836465 0.52486852 0.53366511 0.47707171]]\n",
      "\n",
      " [[0.42000205 0.9189422  0.84925124 0.14562692]\n",
      "  [0.42360063 0.30240372 0.50437383 0.82756499]]\n",
      "\n",
      " [[0.48154213 0.01366563 0.02899281 0.47635254]\n",
      "  [0.57070943 0.5484706  0.05305312 0.26182953]]\n",
      "\n",
      " [[0.90533504 0.18045617 0.67539567 0.74090204]\n",
      "  [0.67319812 0.76623152 0.37864678 0.9822041 ]]]\n"
     ]
    }
   ],
   "source": [
    "y, z = np.hsplit(x, 2)\n",
    "print(y, z)"
   ]
  },
  {
   "cell_type": "code",
   "execution_count": 28,
   "metadata": {},
   "outputs": [
    {
     "name": "stdout",
     "output_type": "stream",
     "text": [
      "[[[0.82867895 0.55798369 0.49230467 0.21844314]\n",
      "  [0.8985031  0.42733363 0.32979589 0.70578233]\n",
      "  [0.91388975 0.67150231 0.32048086 0.47061522]\n",
      "  [0.45836465 0.52486852 0.53366511 0.47707171]]\n",
      "\n",
      " [[0.67350837 0.42134917 0.89965268 0.53596853]\n",
      "  [0.35375186 0.80671171 0.58357056 0.87714871]\n",
      "  [0.42000205 0.9189422  0.84925124 0.14562692]\n",
      "  [0.42360063 0.30240372 0.50437383 0.82756499]]] [[[0.39423342 0.23566706 0.69080503 0.57719095]\n",
      "  [0.46991132 0.4768163  0.36950844 0.69458716]\n",
      "  [0.48154213 0.01366563 0.02899281 0.47635254]\n",
      "  [0.57070943 0.5484706  0.05305312 0.26182953]]\n",
      "\n",
      " [[0.40610148 0.63617857 0.61917571 0.83345948]\n",
      "  [0.67731527 0.66636471 0.90089041 0.06427929]\n",
      "  [0.90533504 0.18045617 0.67539567 0.74090204]\n",
      "  [0.67319812 0.76623152 0.37864678 0.9822041 ]]]\n"
     ]
    }
   ],
   "source": [
    "y, z = np.vsplit(x, 2)\n",
    "print(y, z)"
   ]
  },
  {
   "cell_type": "code",
   "execution_count": 29,
   "metadata": {},
   "outputs": [
    {
     "name": "stdout",
     "output_type": "stream",
     "text": [
      "[[ 0  1  2  3]\n",
      " [ 4  5  6  7]\n",
      " [ 8  9 10 11]\n",
      " [12 13 14 15]]\n"
     ]
    }
   ],
   "source": [
    "x = np.arange(16).reshape(4, 4)\n",
    "print(x)"
   ]
  },
  {
   "cell_type": "code",
   "execution_count": 30,
   "metadata": {},
   "outputs": [
    {
     "name": "stdout",
     "output_type": "stream",
     "text": [
      "[[ 3  2  1  0]\n",
      " [ 7  6  5  4]\n",
      " [11 10  9  8]\n",
      " [15 14 13 12]]\n"
     ]
    }
   ],
   "source": [
    "y = np.flip(x, axis = -1)\n",
    "print(y)"
   ]
  },
  {
   "cell_type": "code",
   "execution_count": 31,
   "metadata": {},
   "outputs": [
    {
     "name": "stdout",
     "output_type": "stream",
     "text": [
      "[[12 13 14 15]\n",
      " [ 8  9 10 11]\n",
      " [ 4  5  6  7]\n",
      " [ 0  1  2  3]]\n"
     ]
    }
   ],
   "source": [
    "y = np.flip(x, axis = 0)\n",
    "print(y)"
   ]
  },
  {
   "cell_type": "code",
   "execution_count": 32,
   "metadata": {},
   "outputs": [
    {
     "name": "stdout",
     "output_type": "stream",
     "text": [
      "[[ 3  2  1  0]\n",
      " [ 7  6  5  4]\n",
      " [11 10  9  8]\n",
      " [15 14 13 12]]\n"
     ]
    }
   ],
   "source": [
    "y = np.flip(x, axis = 1)\n",
    "print(y)"
   ]
  },
  {
   "cell_type": "code",
   "execution_count": 33,
   "metadata": {},
   "outputs": [
    {
     "name": "stdout",
     "output_type": "stream",
     "text": [
      "[[ 0  1  2  3]\n",
      " [ 4  5  6  7]\n",
      " [ 8  9 10 11]\n",
      " [12 13 14 15]]\n",
      "[[ 3  2  1  0]\n",
      " [ 7  6  5  4]\n",
      " [11 10  9  8]\n",
      " [15 14 13 12]]\n"
     ]
    }
   ],
   "source": [
    "y = np.fliplr(x)\n",
    "print(x)\n",
    "print(y)"
   ]
  },
  {
   "cell_type": "code",
   "execution_count": 34,
   "metadata": {},
   "outputs": [
    {
     "name": "stdout",
     "output_type": "stream",
     "text": [
      "[[ 0  1  2  3]\n",
      " [ 4  5  6  7]\n",
      " [ 8  9 10 11]\n",
      " [12 13 14 15]]\n",
      "[[12 13 14 15]\n",
      " [ 8  9 10 11]\n",
      " [ 4  5  6  7]\n",
      " [ 0  1  2  3]]\n"
     ]
    }
   ],
   "source": [
    "y = np.flipud(x)\n",
    "print(x)\n",
    "print(y)"
   ]
  },
  {
   "cell_type": "code",
   "execution_count": 35,
   "metadata": {},
   "outputs": [
    {
     "name": "stdout",
     "output_type": "stream",
     "text": [
      "[[ 8  9 10 11]\n",
      " [12 13 14 15]\n",
      " [ 0  1  2  3]\n",
      " [ 4  5  6  7]]\n"
     ]
    }
   ],
   "source": [
    "y = np.roll(x, 8)\n",
    "print(y)"
   ]
  },
  {
   "cell_type": "code",
   "execution_count": 36,
   "metadata": {},
   "outputs": [
    {
     "name": "stdout",
     "output_type": "stream",
     "text": [
      "[[ 0  1  2  3]\n",
      " [ 4  5  6  7]\n",
      " [ 8  9 10 11]\n",
      " [12 13 14 15]]\n",
      "[[ 3  7 11 15]\n",
      " [ 2  6 10 14]\n",
      " [ 1  5  9 13]\n",
      " [ 0  4  8 12]]\n"
     ]
    }
   ],
   "source": [
    "y = np.rot90(x)\n",
    "print(x)\n",
    "print(y)"
   ]
  },
  {
   "cell_type": "code",
   "execution_count": null,
   "metadata": {},
   "outputs": [],
   "source": []
  }
 ],
 "metadata": {
  "kernelspec": {
   "display_name": "Python 3",
   "language": "python",
   "name": "python3"
  },
  "language_info": {
   "codemirror_mode": {
    "name": "ipython",
    "version": 3
   },
   "file_extension": ".py",
   "mimetype": "text/x-python",
   "name": "python",
   "nbconvert_exporter": "python",
   "pygments_lexer": "ipython3",
   "version": "3.7.3"
  },
  "toc": {
   "base_numbering": 1,
   "nav_menu": {},
   "number_sections": true,
   "sideBar": true,
   "skip_h1_title": false,
   "title_cell": "Table of Contents",
   "title_sidebar": "Contents",
   "toc_cell": false,
   "toc_position": {},
   "toc_section_display": true,
   "toc_window_display": false
  }
 },
 "nbformat": 4,
 "nbformat_minor": 2
}
