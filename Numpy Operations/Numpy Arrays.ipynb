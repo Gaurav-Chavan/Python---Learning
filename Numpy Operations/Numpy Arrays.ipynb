{
 "cells": [
  {
   "cell_type": "code",
   "execution_count": 1,
   "metadata": {},
   "outputs": [],
   "source": [
    "import numpy as np\n"
   ]
  },
  {
   "cell_type": "code",
   "execution_count": 5,
   "metadata": {},
   "outputs": [
    {
     "name": "stdout",
     "output_type": "stream",
     "text": [
      "[4 5 3 6 7 6 0 2 3 0]\n"
     ]
    }
   ],
   "source": [
    "x = np.random.randint( low = 0, high = 9, size = 10)\n",
    "print(x)"
   ]
  },
  {
   "cell_type": "code",
   "execution_count": 6,
   "metadata": {},
   "outputs": [
    {
     "name": "stdout",
     "output_type": "stream",
     "text": [
      "[[0.07567613 0.53311563 0.12264096]\n",
      " [0.58018236 0.9912565  0.88278259]\n",
      " [0.42361491 0.45511239 0.59756764]]\n"
     ]
    }
   ],
   "source": [
    "x = np.random.rand(3, 3)\n",
    "print(x)"
   ]
  },
  {
   "cell_type": "code",
   "execution_count": 7,
   "metadata": {},
   "outputs": [
    {
     "name": "stdout",
     "output_type": "stream",
     "text": [
      "[[[0.29157613 0.74742222 0.13415983]\n",
      "  [0.81283952 0.62777595 0.25666381]\n",
      "  [0.02461932 0.99287139 0.27468036]]\n",
      "\n",
      " [[0.99166189 0.64917514 0.20172226]\n",
      "  [0.75763711 0.02143434 0.13549059]\n",
      "  [0.48870856 0.11425773 0.30108213]]\n",
      "\n",
      " [[0.40094895 0.79026146 0.01840082]\n",
      "  [0.28471009 0.1755795  0.77017106]\n",
      "  [0.53915742 0.65507898 0.69303718]]]\n"
     ]
    }
   ],
   "source": [
    "x = np.random.rand(3, 3, 3)\n",
    "print(x)"
   ]
  },
  {
   "cell_type": "code",
   "execution_count": 8,
   "metadata": {},
   "outputs": [
    {
     "name": "stdout",
     "output_type": "stream",
     "text": [
      "[[[[[0.56052222 0.61700574]\n",
      "    [0.14241816 0.85486068]]\n",
      "\n",
      "   [[0.51484503 0.22730624]\n",
      "    [0.2016704  0.75107786]]]\n",
      "\n",
      "\n",
      "  [[[0.97838393 0.29151325]\n",
      "    [0.53028889 0.76958561]]\n",
      "\n",
      "   [[0.99236344 0.51505596]\n",
      "    [0.85270099 0.6446274 ]]]]\n",
      "\n",
      "\n",
      "\n",
      " [[[[0.02771634 0.15684486]\n",
      "    [0.20672917 0.13879172]]\n",
      "\n",
      "   [[0.25921877 0.03330635]\n",
      "    [0.59953914 0.50274272]]]\n",
      "\n",
      "\n",
      "  [[[0.49901232 0.97415366]\n",
      "    [0.56477939 0.0635811 ]]\n",
      "\n",
      "   [[0.39700869 0.24416077]\n",
      "    [0.1862161  0.64470699]]]]]\n"
     ]
    }
   ],
   "source": [
    "x = np.random.rand(2, 2, 2, 2, 2)\n",
    "print(x)"
   ]
  },
  {
   "cell_type": "code",
   "execution_count": null,
   "metadata": {},
   "outputs": [],
   "source": []
  }
 ],
 "metadata": {
  "kernelspec": {
   "display_name": "Python 3",
   "language": "python",
   "name": "python3"
  },
  "language_info": {
   "codemirror_mode": {
    "name": "ipython",
    "version": 3
   },
   "file_extension": ".py",
   "mimetype": "text/x-python",
   "name": "python",
   "nbconvert_exporter": "python",
   "pygments_lexer": "ipython3",
   "version": "3.5.3"
  }
 },
 "nbformat": 4,
 "nbformat_minor": 2
}
